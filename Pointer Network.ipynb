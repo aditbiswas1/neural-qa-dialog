{
 "cells": [
  {
   "cell_type": "code",
   "execution_count": null,
   "metadata": {
    "collapsed": true
   },
   "outputs": [],
   "source": [
    "import numpy as np\n",
    "import random"
   ]
  },
  {
   "cell_type": "code",
   "execution_count": 2,
   "metadata": {
    "collapsed": true
   },
   "outputs": [],
   "source": [
    "class SequenceEncoder(object):\n",
    "    \"\"\"\n",
    "    Helper class for encoding / decoding number sequences\n",
    "    \"\"\"\n",
    "    def encode(self, C, num_rows):\n",
    "        x = np.zeros((num_rows, 10))\n",
    "        for i, c in enumerate(C):\n",
    "            x[i, c] = 1\n",
    "        return x\n",
    "\n",
    "    def decode(self, x, calc_argmax=True):\n",
    "        if calc_argmax:\n",
    "            x = x.argmax(axis=-1)\n",
    "        return x\n",
    "    \n",
    "    def encode_position(self, num_rows, index):\n",
    "        x = np.zeros([num_rows])\n",
    "        x[index] = 1\n",
    "        return x\n",
    "    \n",
    "    def decode_position(self,position_sequence):\n",
    "        return position_sequence.argmax()\n",
    "    \n",
    "    def return_subsequence(self, \n",
    "                           input_sequence, \n",
    "                           start_position_sequence, \n",
    "                           end_position_sequence):\n",
    "        start = self.decode_position(start_position_sequence)\n",
    "        end = self.decode_position(end_position_sequence)\n",
    "        decoded_input = self.decode(input_seq)\n",
    "        return decoded_input[start:end]"
   ]
  },
  {
   "cell_type": "code",
   "execution_count": 3,
   "metadata": {
    "collapsed": true
   },
   "outputs": [],
   "source": [
    "sequence_encoder = SequenceEncoder()"
   ]
  },
  {
   "cell_type": "code",
   "execution_count": 4,
   "metadata": {
    "collapsed": true
   },
   "outputs": [],
   "source": [
    "sequence = [1, 2, 3]\n",
    "max_len = 20"
   ]
  },
  {
   "cell_type": "code",
   "execution_count": 5,
   "metadata": {
    "collapsed": true
   },
   "outputs": [],
   "source": [
    "input_seq = sequence_encoder.encode([1,2,3], max_len)"
   ]
  },
  {
   "cell_type": "code",
   "execution_count": 6,
   "metadata": {
    "collapsed": true
   },
   "outputs": [],
   "source": [
    "start = sequence_encoder.encode_position(max_len, 0)"
   ]
  },
  {
   "cell_type": "code",
   "execution_count": 7,
   "metadata": {
    "collapsed": true
   },
   "outputs": [],
   "source": [
    "end = sequence_encoder.encode_position(max_len, 3)"
   ]
  },
  {
   "cell_type": "code",
   "execution_count": 8,
   "metadata": {},
   "outputs": [
    {
     "data": {
      "text/plain": [
       "array([1, 2, 3])"
      ]
     },
     "execution_count": 8,
     "metadata": {},
     "output_type": "execute_result"
    }
   ],
   "source": [
    "sequence_encoder.return_subsequence(input_seq, start, end)"
   ]
  },
  {
   "cell_type": "code",
   "execution_count": 9,
   "metadata": {
    "collapsed": true
   },
   "outputs": [],
   "source": [
    "\n",
    "def generate_low_high_low_sequence(length, min_seglen=5, max_seglen=10):\n",
    "    seq_before = [(random.randint(1,5)) for x in range(random.randint(min_seglen, max_seglen))]\n",
    "    seq_during = [(random.randint(6,9)) for x in range(random.randint(min_seglen, max_seglen))]\n",
    "    seq_after = [random.randint(1,5) for x in range(random.randint(min_seglen, max_seglen))]\n",
    "    seq = seq_before + seq_during + seq_after\n",
    "\n",
    "    # Pad it up to max len with 0's\n",
    "    seq = seq + ([0] * (length - len(seq)))\n",
    "    return [seq, len(seq_before), len(seq_before) + len(seq_during)-1]"
   ]
  },
  {
   "cell_type": "code",
   "execution_count": 12,
   "metadata": {
    "collapsed": true
   },
   "outputs": [],
   "source": [
    "x ,start, end = generate_low_high_low_sequence(60)"
   ]
  },
  {
   "cell_type": "code",
   "execution_count": 15,
   "metadata": {},
   "outputs": [
    {
     "data": {
      "text/plain": [
       "6"
      ]
     },
     "execution_count": 15,
     "metadata": {},
     "output_type": "execute_result"
    }
   ],
   "source": [
    "x[start]"
   ]
  },
  {
   "cell_type": "code",
   "execution_count": 16,
   "metadata": {},
   "outputs": [
    {
     "data": {
      "text/plain": [
       "6"
      ]
     },
     "execution_count": 16,
     "metadata": {},
     "output_type": "execute_result"
    }
   ],
   "source": [
    "x[end]"
   ]
  },
  {
   "cell_type": "code",
   "execution_count": 17,
   "metadata": {
    "collapsed": true
   },
   "outputs": [],
   "source": [
    "def generate_batch(batch_size, sequence_gen_fun, input_len=60, min_seg=5, max_seg=10):\n",
    "    sequences = []\n",
    "    start_indices = []\n",
    "    end_indices = []\n",
    "    seq_encoder = SequenceEncoder()\n",
    "    for i in range(batch_size):\n",
    "        seq, start, end = sequence_gen_fun(input_len, min_seg, max_seg)\n",
    "        sequences.append(sequence_encoder.encode(seq, input_len))\n",
    "        start_indices.append(sequence_encoder.encode_position(input_len, start))\n",
    "        end_indices.append(sequence_encoder.encode_position(input_len, end))\n",
    "        \n",
    "    \n",
    "    return np.stack(sequences), np.stack([np.stack(start_indices), np.stack(end_indices)], axis=-1)"
   ]
  },
  {
   "cell_type": "code",
   "execution_count": 18,
   "metadata": {
    "collapsed": true
   },
   "outputs": [],
   "source": [
    "x_batch, y_batch = generate_batch(45000,generate_low_high_low_sequence)"
   ]
  },
  {
   "cell_type": "code",
   "execution_count": 19,
   "metadata": {},
   "outputs": [
    {
     "data": {
      "text/plain": [
       "(45000, 60, 10)"
      ]
     },
     "execution_count": 19,
     "metadata": {},
     "output_type": "execute_result"
    }
   ],
   "source": [
    "x_batch.shape"
   ]
  },
  {
   "cell_type": "code",
   "execution_count": 20,
   "metadata": {},
   "outputs": [
    {
     "data": {
      "text/plain": [
       "(45000, 60, 2)"
      ]
     },
     "execution_count": 20,
     "metadata": {},
     "output_type": "execute_result"
    }
   ],
   "source": [
    "y_batch.shape"
   ]
  },
  {
   "cell_type": "code",
   "execution_count": 55,
   "metadata": {},
   "outputs": [],
   "source": [
    "from keras.models import Model, Sequential\n",
    "from keras.layers import LSTM, TimeDistributed, RepeatVector, Dropout, Dense, Activation, Input, Bidirectional\n",
    "from keras.optimizers import Adam, SGD\n"
   ]
  },
  {
   "cell_type": "code",
   "execution_count": null,
   "metadata": {
    "collapsed": true
   },
   "outputs": [],
   "source": []
  },
  {
   "cell_type": "code",
   "execution_count": 59,
   "metadata": {},
   "outputs": [
    {
     "name": "stdout",
     "output_type": "stream",
     "text": [
      "_________________________________________________________________\n",
      "Layer (type)                 Output Shape              Param #   \n",
      "=================================================================\n",
      "input_3 (InputLayer)         (None, 60, 10)            0         \n",
      "_________________________________________________________________\n",
      "lstm_5 (LSTM)                (None, 60, 20)            2480      \n",
      "_________________________________________________________________\n",
      "lstm_6 (LSTM)                (None, 60, 20)            3280      \n",
      "_________________________________________________________________\n",
      "dense_3 (Dense)              (None, 60, 2)             42        \n",
      "=================================================================\n",
      "Total params: 5,802.0\n",
      "Trainable params: 5,802.0\n",
      "Non-trainable params: 0.0\n",
      "_________________________________________________________________\n"
     ]
    }
   ],
   "source": [
    "num_indices = 2\n",
    "input_len = 60\n",
    "enc_input = Input(shape=(input_len, 10))\n",
    "enc = LSTM(20, return_sequences=True)(enc_input)\n",
    "dec = LSTM(20, return_sequences=True, activation='tanh')(enc)\n",
    "dec = Dense(units=2, activation='softmax')(dec)\n",
    "model = Model(inputs=[enc_input], outputs=[dec])\n",
    "model.summary()"
   ]
  },
  {
   "cell_type": "code",
   "execution_count": 60,
   "metadata": {
    "collapsed": true
   },
   "outputs": [],
   "source": [
    "model.compile(optimizer='adam', loss='mse', metrics=['accuracy'])"
   ]
  },
  {
   "cell_type": "code",
   "execution_count": 61,
   "metadata": {
    "scrolled": false
   },
   "outputs": [
    {
     "name": "stdout",
     "output_type": "stream",
     "text": [
      "Epoch 1/1\n",
      "45000/45000 [==============================] - 134s - loss: 0.2477 - acc: 0.5281   \n",
      "sequence: \n",
      "[2 2 2 8 6 9 9 1 2 3 2 5 0 0 0 0 0 0 0 0 0 0 0 0 0 0 0 0 0 0 0 0 0 0 0 0 0\n",
      " 0 0 0 0 0 0 0 0 0 0 0 0 0 0 0 0 0 0 0 0 0 0 0]\n",
      "actual: \n",
      "[3 6]\n",
      "prediction:\n",
      "[3 5]\n",
      "------------------------------------------------------------\n",
      "sequence: \n",
      "[2 3 2 5 5 9 8 6 8 6 5 3 2 4 1 0 0 0 0 0 0 0 0 0 0 0 0 0 0 0 0 0 0 0 0 0 0\n",
      " 0 0 0 0 0 0 0 0 0 0 0 0 0 0 0 0 0 0 0 0 0 0 0]\n",
      "actual: \n",
      "[5 9]\n",
      "prediction:\n",
      "[5 9]\n",
      "------------------------------------------------------------\n",
      "sequence: \n",
      "[2 1 2 1 2 9 8 8 4 4 1 2 0 0 0 0 0 0 0 0 0 0 0 0 0 0 0 0 0 0 0 0 0 0 0 0 0\n",
      " 0 0 0 0 0 0 0 0 0 0 0 0 0 0 0 0 0 0 0 0 0 0 0]\n",
      "actual: \n",
      "[5 7]\n",
      "prediction:\n",
      "[5 8]\n",
      "------------------------------------------------------------\n",
      "sequence: \n",
      "[2 3 2 2 7 8 6 6 9 3 4 1 0 0 0 0 0 0 0 0 0 0 0 0 0 0 0 0 0 0 0 0 0 0 0 0 0\n",
      " 0 0 0 0 0 0 0 0 0 0 0 0 0 0 0 0 0 0 0 0 0 0 0]\n",
      "actual: \n",
      "[4 8]\n",
      "prediction:\n",
      "[4 8]\n",
      "------------------------------------------------------------\n",
      "sequence: \n",
      "[5 2 1 6 7 7 6 5 3 2 5 4 0 0 0 0 0 0 0 0 0 0 0 0 0 0 0 0 0 0 0 0 0 0 0 0 0\n",
      " 0 0 0 0 0 0 0 0 0 0 0 0 0 0 0 0 0 0 0 0 0 0 0]\n",
      "actual: \n",
      "[3 6]\n",
      "prediction:\n",
      "[3 5]\n",
      "------------------------------------------------------------\n",
      "sequence: \n",
      "[5 3 1 7 7 7 2 1 5 1 3 0 0 0 0 0 0 0 0 0 0 0 0 0 0 0 0 0 0 0 0 0 0 0 0 0 0\n",
      " 0 0 0 0 0 0 0 0 0 0 0 0 0 0 0 0 0 0 0 0 0 0 0]\n",
      "actual: \n",
      "[3 5]\n",
      "prediction:\n",
      "[3 5]\n",
      "------------------------------------------------------------\n",
      "sequence: \n",
      "[3 3 3 3 3 8 8 9 2 5 4 2 0 0 0 0 0 0 0 0 0 0 0 0 0 0 0 0 0 0 0 0 0 0 0 0 0\n",
      " 0 0 0 0 0 0 0 0 0 0 0 0 0 0 0 0 0 0 0 0 0 0 0]\n",
      "actual: \n",
      "[5 7]\n",
      "prediction:\n",
      "[5 8]\n",
      "------------------------------------------------------------\n",
      "sequence: \n",
      "[2 2 1 5 2 9 8 9 7 9 1 1 5 0 0 0 0 0 0 0 0 0 0 0 0 0 0 0 0 0 0 0 0 0 0 0 0\n",
      " 0 0 0 0 0 0 0 0 0 0 0 0 0 0 0 0 0 0 0 0 0 0 0]\n",
      "actual: \n",
      "[5 9]\n",
      "prediction:\n",
      "[5 9]\n",
      "------------------------------------------------------------\n",
      "sequence: \n",
      "[4 2 2 4 7 7 7 4 1 5 0 0 0 0 0 0 0 0 0 0 0 0 0 0 0 0 0 0 0 0 0 0 0 0 0 0 0\n",
      " 0 0 0 0 0 0 0 0 0 0 0 0 0 0 0 0 0 0 0 0 0 0 0]\n",
      "actual: \n",
      "[4 6]\n",
      "prediction:\n",
      "[4 7]\n",
      "------------------------------------------------------------\n",
      "sequence: \n",
      "[4 5 4 4 9 8 6 7 9 4 5 2 0 0 0 0 0 0 0 0 0 0 0 0 0 0 0 0 0 0 0 0 0 0 0 0 0\n",
      " 0 0 0 0 0 0 0 0 0 0 0 0 0 0 0 0 0 0 0 0 0 0 0]\n",
      "actual: \n",
      "[4 8]\n",
      "prediction:\n",
      "[4 8]\n",
      "------------------------------------------------------------\n",
      "************************************************************\n",
      "Epoch 1/1\n",
      "45000/45000 [==============================] - 134s - loss: 0.2443 - acc: 0.4798   \n",
      "sequence: \n",
      "[5 4 3 2 4 7 9 8 6 1 4 4 2 3 0 0 0 0 0 0 0 0 0 0 0 0 0 0 0 0 0 0 0 0 0 0 0\n",
      " 0 0 0 0 0 0 0 0 0 0 0 0 0 0 0 0 0 0 0 0 0 0 0]\n",
      "actual: \n",
      "[5 8]\n",
      "prediction:\n",
      "[5 9]\n",
      "------------------------------------------------------------\n",
      "sequence: \n",
      "[2 2 1 2 8 9 6 6 4 4 2 4 0 0 0 0 0 0 0 0 0 0 0 0 0 0 0 0 0 0 0 0 0 0 0 0 0\n",
      " 0 0 0 0 0 0 0 0 0 0 0 0 0 0 0 0 0 0 0 0 0 0 0]\n",
      "actual: \n",
      "[4 7]\n",
      "prediction:\n",
      "[4 8]\n",
      "------------------------------------------------------------\n",
      "sequence: \n",
      "[5 1 1 8 8 7 7 5 3 2 0 0 0 0 0 0 0 0 0 0 0 0 0 0 0 0 0 0 0 0 0 0 0 0 0 0 0\n",
      " 0 0 0 0 0 0 0 0 0 0 0 0 0 0 0 0 0 0 0 0 0 0 0]\n",
      "actual: \n",
      "[3 6]\n",
      "prediction:\n",
      "[3 5]\n",
      "------------------------------------------------------------\n",
      "sequence: \n",
      "[3 4 2 1 6 8 7 6 6 2 2 1 5 0 0 0 0 0 0 0 0 0 0 0 0 0 0 0 0 0 0 0 0 0 0 0 0\n",
      " 0 0 0 0 0 0 0 0 0 0 0 0 0 0 0 0 0 0 0 0 0 0 0]\n",
      "actual: \n",
      "[4 8]\n",
      "prediction:\n",
      "[4 8]\n",
      "------------------------------------------------------------\n",
      "sequence: \n",
      "[5 2 2 2 2 9 6 9 9 1 5 3 0 0 0 0 0 0 0 0 0 0 0 0 0 0 0 0 0 0 0 0 0 0 0 0 0\n",
      " 0 0 0 0 0 0 0 0 0 0 0 0 0 0 0 0 0 0 0 0 0 0 0]\n",
      "actual: \n",
      "[5 8]\n",
      "prediction:\n",
      "[5 9]\n",
      "------------------------------------------------------------\n",
      "sequence: \n",
      "[3 3 2 9 8 6 4 5 5 0 0 0 0 0 0 0 0 0 0 0 0 0 0 0 0 0 0 0 0 0 0 0 0 0 0 0 0\n",
      " 0 0 0 0 0 0 0 0 0 0 0 0 0 0 0 0 0 0 0 0 0 0 0]\n",
      "actual: \n",
      "[3 5]\n",
      "prediction:\n",
      "[3 6]\n",
      "------------------------------------------------------------\n",
      "sequence: \n",
      "[3 4 3 6 7 8 7 9 5 4 2 2 4 0 0 0 0 0 0 0 0 0 0 0 0 0 0 0 0 0 0 0 0 0 0 0 0\n",
      " 0 0 0 0 0 0 0 0 0 0 0 0 0 0 0 0 0 0 0 0 0 0 0]\n",
      "actual: \n",
      "[3 7]\n",
      "prediction:\n",
      "[3 7]\n",
      "------------------------------------------------------------\n",
      "sequence: \n",
      "[1 3 2 5 3 8 7 7 8 6 3 3 2 0 0 0 0 0 0 0 0 0 0 0 0 0 0 0 0 0 0 0 0 0 0 0 0\n",
      " 0 0 0 0 0 0 0 0 0 0 0 0 0 0 0 0 0 0 0 0 0 0 0]\n",
      "actual: \n",
      "[5 9]\n",
      "prediction:\n",
      "[5 9]\n",
      "------------------------------------------------------------\n",
      "sequence: \n",
      "[3 5 5 4 7 6 6 7 1 5 2 5 1 0 0 0 0 0 0 0 0 0 0 0 0 0 0 0 0 0 0 0 0 0 0 0 0\n",
      " 0 0 0 0 0 0 0 0 0 0 0 0 0 0 0 0 0 0 0 0 0 0 0]\n",
      "actual: \n",
      "[4 7]\n",
      "prediction:\n",
      "[4 8]\n",
      "------------------------------------------------------------\n",
      "sequence: \n",
      "[1 3 5 4 6 6 8 7 3 1 1 4 0 0 0 0 0 0 0 0 0 0 0 0 0 0 0 0 0 0 0 0 0 0 0 0 0\n",
      " 0 0 0 0 0 0 0 0 0 0 0 0 0 0 0 0 0 0 0 0 0 0 0]\n",
      "actual: \n",
      "[4 7]\n",
      "prediction:\n",
      "[4 8]\n",
      "------------------------------------------------------------\n",
      "************************************************************\n",
      "Epoch 1/1\n",
      "45000/45000 [==============================] - 137s - loss: 0.2442 - acc: 0.4956   \n",
      "sequence: \n",
      "[5 4 4 8 9 7 4 4 1 4 0 0 0 0 0 0 0 0 0 0 0 0 0 0 0 0 0 0 0 0 0 0 0 0 0 0 0\n",
      " 0 0 0 0 0 0 0 0 0 0 0 0 0 0 0 0 0 0 0 0 0 0 0]\n",
      "actual: \n",
      "[3 5]\n",
      "prediction:\n",
      "[3 6]\n",
      "------------------------------------------------------------\n",
      "sequence: \n",
      "[5 3 1 9 9 7 8 6 4 4 3 2 3 0 0 0 0 0 0 0 0 0 0 0 0 0 0 0 0 0 0 0 0 0 0 0 0\n",
      " 0 0 0 0 0 0 0 0 0 0 0 0 0 0 0 0 0 0 0 0 0 0 0]\n",
      "actual: \n",
      "[3 7]\n",
      "prediction:\n",
      "[3 7]\n",
      "------------------------------------------------------------\n",
      "sequence: \n",
      "[2 1 1 4 1 7 7 8 1 2 2 0 0 0 0 0 0 0 0 0 0 0 0 0 0 0 0 0 0 0 0 0 0 0 0 0 0\n",
      " 0 0 0 0 0 0 0 0 0 0 0 0 0 0 0 0 0 0 0 0 0 0 0]\n",
      "actual: \n",
      "[5 7]\n",
      "prediction:\n",
      "[5 8]\n",
      "------------------------------------------------------------\n",
      "sequence: \n",
      "[4 4 3 4 6 9 8 7 4 1 4 2 0 0 0 0 0 0 0 0 0 0 0 0 0 0 0 0 0 0 0 0 0 0 0 0 0\n",
      " 0 0 0 0 0 0 0 0 0 0 0 0 0 0 0 0 0 0 0 0 0 0 0]\n",
      "actual: \n",
      "[4 7]\n",
      "prediction:\n",
      "[4 8]\n",
      "------------------------------------------------------------\n",
      "sequence: \n",
      "[5 1 3 3 9 8 8 7 5 2 3 0 0 0 0 0 0 0 0 0 0 0 0 0 0 0 0 0 0 0 0 0 0 0 0 0 0\n",
      " 0 0 0 0 0 0 0 0 0 0 0 0 0 0 0 0 0 0 0 0 0 0 0]\n",
      "actual: \n",
      "[4 7]\n",
      "prediction:\n",
      "[4 8]\n",
      "------------------------------------------------------------\n",
      "sequence: \n",
      "[4 5 4 2 3 8 9 8 9 2 2 1 1 0 0 0 0 0 0 0 0 0 0 0 0 0 0 0 0 0 0 0 0 0 0 0 0\n",
      " 0 0 0 0 0 0 0 0 0 0 0 0 0 0 0 0 0 0 0 0 0 0 0]\n",
      "actual: \n",
      "[5 8]\n",
      "prediction:\n",
      "[5 9]\n",
      "------------------------------------------------------------\n",
      "sequence: \n",
      "[2 3 1 9 8 9 8 7 3 5 5 0 0 0 0 0 0 0 0 0 0 0 0 0 0 0 0 0 0 0 0 0 0 0 0 0 0\n",
      " 0 0 0 0 0 0 0 0 0 0 0 0 0 0 0 0 0 0 0 0 0 0 0]\n",
      "actual: \n",
      "[3 7]\n",
      "prediction:\n",
      "[3 7]\n",
      "------------------------------------------------------------\n",
      "sequence: \n",
      "[5 5 4 4 4 9 7 9 7 1 1 1 1 0 0 0 0 0 0 0 0 0 0 0 0 0 0 0 0 0 0 0 0 0 0 0 0\n",
      " 0 0 0 0 0 0 0 0 0 0 0 0 0 0 0 0 0 0 0 0 0 0 0]\n",
      "actual: \n",
      "[5 8]\n",
      "prediction:\n",
      "[5 9]\n",
      "------------------------------------------------------------\n",
      "sequence: \n",
      "[3 1 1 5 7 8 9 4 2 2 1 4 0 0 0 0 0 0 0 0 0 0 0 0 0 0 0 0 0 0 0 0 0 0 0 0 0\n",
      " 0 0 0 0 0 0 0 0 0 0 0 0 0 0 0 0 0 0 0 0 0 0 0]\n",
      "actual: \n",
      "[4 6]\n",
      "prediction:\n",
      "[4 7]\n",
      "------------------------------------------------------------\n",
      "sequence: \n",
      "[5 5 2 7 7 8 7 1 3 1 4 5 0 0 0 0 0 0 0 0 0 0 0 0 0 0 0 0 0 0 0 0 0 0 0 0 0\n",
      " 0 0 0 0 0 0 0 0 0 0 0 0 0 0 0 0 0 0 0 0 0 0 0]\n",
      "actual: \n",
      "[3 6]\n",
      "prediction:\n",
      "[3 7]\n",
      "------------------------------------------------------------\n",
      "************************************************************\n"
     ]
    }
   ],
   "source": [
    "iterations = 3\n",
    "for i in range(iterations):\n",
    "    model.fit(x_batch, y_batch, epochs=1, batch_size=128)\n",
    "    x_test, y_test = generate_batch(10, generate_low_high_low_sequence, 60, 3, 5)\n",
    "    y_pred = model.predict(x_test)\n",
    "    truth = np.argmax(y_test, axis=1)\n",
    "    pred = np.argmax(y_pred, axis=1)\n",
    "    for j, val in enumerate(x_test):\n",
    "        print(\"sequence: \")\n",
    "        print(sequence_encoder.decode(val))\n",
    "        print(\"actual: \")\n",
    "        print(truth[j])\n",
    "        print(\"prediction:\")\n",
    "        print(pred[j])\n",
    "        print(\"-\"*60)\n",
    "        \n",
    "    print(\"*\" * 60)"
   ]
  },
  {
   "cell_type": "code",
   "execution_count": 33,
   "metadata": {
    "scrolled": true
   },
   "outputs": [
    {
     "data": {
      "text/plain": [
       "array([4, 2, 1, 5, 2, 4, 5, 4, 1, 9, 7, 6, 8, 6, 6, 9, 1, 2, 2, 1, 1, 5, 3,\n",
       "       2, 2, 5, 0, 0, 0, 0, 0, 0, 0, 0, 0, 0, 0, 0, 0, 0, 0, 0, 0, 0, 0, 0,\n",
       "       0, 0, 0, 0, 0, 0, 0, 0, 0, 0, 0, 0, 0, 0])"
      ]
     },
     "execution_count": 33,
     "metadata": {},
     "output_type": "execute_result"
    }
   ],
   "source": [
    "sequence_encoder.decode(x_batch[0])"
   ]
  },
  {
   "cell_type": "code",
   "execution_count": 34,
   "metadata": {
    "collapsed": true
   },
   "outputs": [],
   "source": [
    "u = model.predict(x_batch[:1]).transpose()"
   ]
  },
  {
   "cell_type": "code",
   "execution_count": 35,
   "metadata": {},
   "outputs": [
    {
     "data": {
      "text/plain": [
       "15"
      ]
     },
     "execution_count": 35,
     "metadata": {},
     "output_type": "execute_result"
    }
   ],
   "source": [
    "np.argmax(u[1])"
   ]
  },
  {
   "cell_type": "code",
   "execution_count": 48,
   "metadata": {
    "collapsed": true
   },
   "outputs": [],
   "source": [
    "i, j = sequence_encoder.encode_position(60, start), sequence_encoder.encode_position(60, end)"
   ]
  },
  {
   "cell_type": "code",
   "execution_count": 49,
   "metadata": {
    "collapsed": true
   },
   "outputs": [],
   "source": [
    "seq, start, end = generate_low_high_low_sequence(60)"
   ]
  },
  {
   "cell_type": "code",
   "execution_count": 50,
   "metadata": {
    "collapsed": true
   },
   "outputs": [],
   "source": [
    "test = np.stack([sequence_encoder.encode(seq, 60)])"
   ]
  },
  {
   "cell_type": "code",
   "execution_count": 51,
   "metadata": {},
   "outputs": [
    {
     "data": {
      "text/plain": [
       "array([[ 5, 10]])"
      ]
     },
     "execution_count": 51,
     "metadata": {},
     "output_type": "execute_result"
    }
   ],
   "source": [
    "np.argmax(model.predict(test), axis=1)"
   ]
  },
  {
   "cell_type": "code",
   "execution_count": 53,
   "metadata": {
    "collapsed": true
   },
   "outputs": [],
   "source": [
    "pred = model.predict(test)"
   ]
  },
  {
   "cell_type": "code",
   "execution_count": 54,
   "metadata": {},
   "outputs": [
    {
     "data": {
      "text/plain": [
       "array([[[ 0.50130099,  0.49869898],\n",
       "        [ 0.4990516 ,  0.50094837],\n",
       "        [ 0.49947953,  0.50052053],\n",
       "        [ 0.49802601,  0.50197399],\n",
       "        [ 0.49760228,  0.50239772],\n",
       "        [ 0.98790377,  0.0120962 ],\n",
       "        [ 0.50738168,  0.49261838],\n",
       "        [ 0.50020063,  0.49979934],\n",
       "        [ 0.49808249,  0.50191748],\n",
       "        [ 0.41034853,  0.58965147],\n",
       "        [ 0.39232054,  0.60767949],\n",
       "        [ 0.50918025,  0.49081972],\n",
       "        [ 0.50630337,  0.49369669],\n",
       "        [ 0.49607721,  0.50392282],\n",
       "        [ 0.49612963,  0.50387037],\n",
       "        [ 0.495197  ,  0.504803  ],\n",
       "        [ 0.49697086,  0.50302911],\n",
       "        [ 0.49816772,  0.50183225],\n",
       "        [ 0.49945989,  0.50054008],\n",
       "        [ 0.4995819 ,  0.50041813],\n",
       "        [ 0.5000174 ,  0.4999826 ],\n",
       "        [ 0.49971125,  0.50028872],\n",
       "        [ 0.4991478 ,  0.50085223],\n",
       "        [ 0.49854055,  0.50145948],\n",
       "        [ 0.49809724,  0.50190282],\n",
       "        [ 0.49788755,  0.50211245],\n",
       "        [ 0.49788094,  0.50211906],\n",
       "        [ 0.49800608,  0.50199389],\n",
       "        [ 0.49819118,  0.50180876],\n",
       "        [ 0.49838173,  0.50161833],\n",
       "        [ 0.49854407,  0.50145596],\n",
       "        [ 0.49866328,  0.50133675],\n",
       "        [ 0.49873784,  0.50126213],\n",
       "        [ 0.49877453,  0.50122547],\n",
       "        [ 0.4987835 ,  0.50121653],\n",
       "        [ 0.49877512,  0.50122482],\n",
       "        [ 0.49875832,  0.50124168],\n",
       "        [ 0.498739  ,  0.50126094],\n",
       "        [ 0.49872112,  0.50127894],\n",
       "        [ 0.49870622,  0.50129378],\n",
       "        [ 0.49869484,  0.50130522],\n",
       "        [ 0.49868664,  0.50131333],\n",
       "        [ 0.49868119,  0.50131875],\n",
       "        [ 0.49867791,  0.50132209],\n",
       "        [ 0.4986763 ,  0.5013237 ],\n",
       "        [ 0.49867606,  0.50132394],\n",
       "        [ 0.49867707,  0.50132298],\n",
       "        [ 0.49867901,  0.50132096],\n",
       "        [ 0.49868199,  0.50131804],\n",
       "        [ 0.49868587,  0.50131416],\n",
       "        [ 0.49869049,  0.50130951],\n",
       "        [ 0.49869585,  0.50130409],\n",
       "        [ 0.49870178,  0.50129819],\n",
       "        [ 0.49870825,  0.50129181],\n",
       "        [ 0.49871483,  0.50128514],\n",
       "        [ 0.49872166,  0.50127834],\n",
       "        [ 0.49872851,  0.50127155],\n",
       "        [ 0.49873522,  0.50126487],\n",
       "        [ 0.49874163,  0.50125843],\n",
       "        [ 0.49874774,  0.50125223]]], dtype=float32)"
      ]
     },
     "execution_count": 54,
     "metadata": {},
     "output_type": "execute_result"
    }
   ],
   "source": [
    "pred"
   ]
  },
  {
   "cell_type": "code",
   "execution_count": null,
   "metadata": {
    "collapsed": true
   },
   "outputs": [],
   "source": []
  }
 ],
 "metadata": {
  "kernelspec": {
   "display_name": "Python 3",
   "language": "python",
   "name": "python3"
  },
  "language_info": {
   "codemirror_mode": {
    "name": "ipython",
    "version": 3
   },
   "file_extension": ".py",
   "mimetype": "text/x-python",
   "name": "python",
   "nbconvert_exporter": "python",
   "pygments_lexer": "ipython3",
   "version": "3.6.0"
  }
 },
 "nbformat": 4,
 "nbformat_minor": 2
}
